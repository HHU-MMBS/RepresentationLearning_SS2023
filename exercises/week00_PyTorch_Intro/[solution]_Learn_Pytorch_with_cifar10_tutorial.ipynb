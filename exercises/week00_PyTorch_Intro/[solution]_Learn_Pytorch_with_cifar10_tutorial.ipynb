{
  "nbformat": 4,
  "nbformat_minor": 0,
  "metadata": {
    "colab": {
      "name": "[solution] - Learn Pytorch with cifar10 tutorial.ipynb",
      "provenance": [],
      "collapsed_sections": [
        "eoIA7vtXpDdv"
      ]
    },
    "kernelspec": {
      "name": "python3",
      "display_name": "Python 3"
    },
    "language_info": {
      "name": "python"
    },
    "accelerator": "GPU",
    "widgets": {
      "application/vnd.jupyter.widget-state+json": {
        "1c02ad7989c44e528d1a2b186de6e256": {
          "model_module": "@jupyter-widgets/controls",
          "model_name": "HBoxModel",
          "model_module_version": "1.5.0",
          "state": {
            "_view_name": "HBoxView",
            "_dom_classes": [],
            "_model_name": "HBoxModel",
            "_view_module": "@jupyter-widgets/controls",
            "_model_module_version": "1.5.0",
            "_view_count": null,
            "_view_module_version": "1.5.0",
            "box_style": "",
            "layout": "IPY_MODEL_1670f9417eda446c9c19113ad1443a4a",
            "_model_module": "@jupyter-widgets/controls",
            "children": [
              "IPY_MODEL_9ed5921514444c269818f6b7044c3350",
              "IPY_MODEL_6ef3b2507ee94e09a7b239bbb4e71c16",
              "IPY_MODEL_5a2cbdbff7db4c7986fa0a200b0758a1"
            ]
          }
        },
        "1670f9417eda446c9c19113ad1443a4a": {
          "model_module": "@jupyter-widgets/base",
          "model_name": "LayoutModel",
          "model_module_version": "1.2.0",
          "state": {
            "_view_name": "LayoutView",
            "grid_template_rows": null,
            "right": null,
            "justify_content": null,
            "_view_module": "@jupyter-widgets/base",
            "overflow": null,
            "_model_module_version": "1.2.0",
            "_view_count": null,
            "flex_flow": null,
            "width": null,
            "min_width": null,
            "border": null,
            "align_items": null,
            "bottom": null,
            "_model_module": "@jupyter-widgets/base",
            "top": null,
            "grid_column": null,
            "overflow_y": null,
            "overflow_x": null,
            "grid_auto_flow": null,
            "grid_area": null,
            "grid_template_columns": null,
            "flex": null,
            "_model_name": "LayoutModel",
            "justify_items": null,
            "grid_row": null,
            "max_height": null,
            "align_content": null,
            "visibility": null,
            "align_self": null,
            "height": null,
            "min_height": null,
            "padding": null,
            "grid_auto_rows": null,
            "grid_gap": null,
            "max_width": null,
            "order": null,
            "_view_module_version": "1.2.0",
            "grid_template_areas": null,
            "object_position": null,
            "object_fit": null,
            "grid_auto_columns": null,
            "margin": null,
            "display": null,
            "left": null
          }
        },
        "9ed5921514444c269818f6b7044c3350": {
          "model_module": "@jupyter-widgets/controls",
          "model_name": "HTMLModel",
          "model_module_version": "1.5.0",
          "state": {
            "_view_name": "HTMLView",
            "style": "IPY_MODEL_d2b0cde4687d4d3faeaffa8bda68c9b9",
            "_dom_classes": [],
            "description": "",
            "_model_name": "HTMLModel",
            "placeholder": "​",
            "_view_module": "@jupyter-widgets/controls",
            "_model_module_version": "1.5.0",
            "value": "",
            "_view_count": null,
            "_view_module_version": "1.5.0",
            "description_tooltip": null,
            "_model_module": "@jupyter-widgets/controls",
            "layout": "IPY_MODEL_d4a7ebfc27804b6fb3b5f4aafbe3914c"
          }
        },
        "6ef3b2507ee94e09a7b239bbb4e71c16": {
          "model_module": "@jupyter-widgets/controls",
          "model_name": "FloatProgressModel",
          "model_module_version": "1.5.0",
          "state": {
            "_view_name": "ProgressView",
            "style": "IPY_MODEL_12dc679ada63410a8703ff0eafd4cd22",
            "_dom_classes": [],
            "description": "",
            "_model_name": "FloatProgressModel",
            "bar_style": "success",
            "max": 170498071,
            "_view_module": "@jupyter-widgets/controls",
            "_model_module_version": "1.5.0",
            "value": 170498071,
            "_view_count": null,
            "_view_module_version": "1.5.0",
            "orientation": "horizontal",
            "min": 0,
            "description_tooltip": null,
            "_model_module": "@jupyter-widgets/controls",
            "layout": "IPY_MODEL_ec4e5afea1574985a3bc6f0fab14cf6e"
          }
        },
        "5a2cbdbff7db4c7986fa0a200b0758a1": {
          "model_module": "@jupyter-widgets/controls",
          "model_name": "HTMLModel",
          "model_module_version": "1.5.0",
          "state": {
            "_view_name": "HTMLView",
            "style": "IPY_MODEL_7ad578e5c1de4c06b586a810715edb4f",
            "_dom_classes": [],
            "description": "",
            "_model_name": "HTMLModel",
            "placeholder": "​",
            "_view_module": "@jupyter-widgets/controls",
            "_model_module_version": "1.5.0",
            "value": " 170499072/? [00:03&lt;00:00, 56548998.40it/s]",
            "_view_count": null,
            "_view_module_version": "1.5.0",
            "description_tooltip": null,
            "_model_module": "@jupyter-widgets/controls",
            "layout": "IPY_MODEL_878adc9d81f3427e8bd06ae6e5bc212c"
          }
        },
        "d2b0cde4687d4d3faeaffa8bda68c9b9": {
          "model_module": "@jupyter-widgets/controls",
          "model_name": "DescriptionStyleModel",
          "model_module_version": "1.5.0",
          "state": {
            "_view_name": "StyleView",
            "_model_name": "DescriptionStyleModel",
            "description_width": "",
            "_view_module": "@jupyter-widgets/base",
            "_model_module_version": "1.5.0",
            "_view_count": null,
            "_view_module_version": "1.2.0",
            "_model_module": "@jupyter-widgets/controls"
          }
        },
        "d4a7ebfc27804b6fb3b5f4aafbe3914c": {
          "model_module": "@jupyter-widgets/base",
          "model_name": "LayoutModel",
          "model_module_version": "1.2.0",
          "state": {
            "_view_name": "LayoutView",
            "grid_template_rows": null,
            "right": null,
            "justify_content": null,
            "_view_module": "@jupyter-widgets/base",
            "overflow": null,
            "_model_module_version": "1.2.0",
            "_view_count": null,
            "flex_flow": null,
            "width": null,
            "min_width": null,
            "border": null,
            "align_items": null,
            "bottom": null,
            "_model_module": "@jupyter-widgets/base",
            "top": null,
            "grid_column": null,
            "overflow_y": null,
            "overflow_x": null,
            "grid_auto_flow": null,
            "grid_area": null,
            "grid_template_columns": null,
            "flex": null,
            "_model_name": "LayoutModel",
            "justify_items": null,
            "grid_row": null,
            "max_height": null,
            "align_content": null,
            "visibility": null,
            "align_self": null,
            "height": null,
            "min_height": null,
            "padding": null,
            "grid_auto_rows": null,
            "grid_gap": null,
            "max_width": null,
            "order": null,
            "_view_module_version": "1.2.0",
            "grid_template_areas": null,
            "object_position": null,
            "object_fit": null,
            "grid_auto_columns": null,
            "margin": null,
            "display": null,
            "left": null
          }
        },
        "12dc679ada63410a8703ff0eafd4cd22": {
          "model_module": "@jupyter-widgets/controls",
          "model_name": "ProgressStyleModel",
          "model_module_version": "1.5.0",
          "state": {
            "_view_name": "StyleView",
            "_model_name": "ProgressStyleModel",
            "description_width": "",
            "_view_module": "@jupyter-widgets/base",
            "_model_module_version": "1.5.0",
            "_view_count": null,
            "_view_module_version": "1.2.0",
            "bar_color": null,
            "_model_module": "@jupyter-widgets/controls"
          }
        },
        "ec4e5afea1574985a3bc6f0fab14cf6e": {
          "model_module": "@jupyter-widgets/base",
          "model_name": "LayoutModel",
          "model_module_version": "1.2.0",
          "state": {
            "_view_name": "LayoutView",
            "grid_template_rows": null,
            "right": null,
            "justify_content": null,
            "_view_module": "@jupyter-widgets/base",
            "overflow": null,
            "_model_module_version": "1.2.0",
            "_view_count": null,
            "flex_flow": null,
            "width": null,
            "min_width": null,
            "border": null,
            "align_items": null,
            "bottom": null,
            "_model_module": "@jupyter-widgets/base",
            "top": null,
            "grid_column": null,
            "overflow_y": null,
            "overflow_x": null,
            "grid_auto_flow": null,
            "grid_area": null,
            "grid_template_columns": null,
            "flex": null,
            "_model_name": "LayoutModel",
            "justify_items": null,
            "grid_row": null,
            "max_height": null,
            "align_content": null,
            "visibility": null,
            "align_self": null,
            "height": null,
            "min_height": null,
            "padding": null,
            "grid_auto_rows": null,
            "grid_gap": null,
            "max_width": null,
            "order": null,
            "_view_module_version": "1.2.0",
            "grid_template_areas": null,
            "object_position": null,
            "object_fit": null,
            "grid_auto_columns": null,
            "margin": null,
            "display": null,
            "left": null
          }
        },
        "7ad578e5c1de4c06b586a810715edb4f": {
          "model_module": "@jupyter-widgets/controls",
          "model_name": "DescriptionStyleModel",
          "model_module_version": "1.5.0",
          "state": {
            "_view_name": "StyleView",
            "_model_name": "DescriptionStyleModel",
            "description_width": "",
            "_view_module": "@jupyter-widgets/base",
            "_model_module_version": "1.5.0",
            "_view_count": null,
            "_view_module_version": "1.2.0",
            "_model_module": "@jupyter-widgets/controls"
          }
        },
        "878adc9d81f3427e8bd06ae6e5bc212c": {
          "model_module": "@jupyter-widgets/base",
          "model_name": "LayoutModel",
          "model_module_version": "1.2.0",
          "state": {
            "_view_name": "LayoutView",
            "grid_template_rows": null,
            "right": null,
            "justify_content": null,
            "_view_module": "@jupyter-widgets/base",
            "overflow": null,
            "_model_module_version": "1.2.0",
            "_view_count": null,
            "flex_flow": null,
            "width": null,
            "min_width": null,
            "border": null,
            "align_items": null,
            "bottom": null,
            "_model_module": "@jupyter-widgets/base",
            "top": null,
            "grid_column": null,
            "overflow_y": null,
            "overflow_x": null,
            "grid_auto_flow": null,
            "grid_area": null,
            "grid_template_columns": null,
            "flex": null,
            "_model_name": "LayoutModel",
            "justify_items": null,
            "grid_row": null,
            "max_height": null,
            "align_content": null,
            "visibility": null,
            "align_self": null,
            "height": null,
            "min_height": null,
            "padding": null,
            "grid_auto_rows": null,
            "grid_gap": null,
            "max_width": null,
            "order": null,
            "_view_module_version": "1.2.0",
            "grid_template_areas": null,
            "object_position": null,
            "object_fit": null,
            "grid_auto_columns": null,
            "margin": null,
            "display": null,
            "left": null
          }
        }
      }
    }
  },
  "cells": [
    {
      "cell_type": "markdown",
      "metadata": {
        "id": "kcpEyHCBPLpd"
      },
      "source": [
        "```\n",
        "CIFAR10 Tutorial\n",
        "\n",
        "Author: Nikolas Adaloglou\n",
        "MIT Licence\n",
        "\n",
        "Copyright © 2021 Nikolas Adaloglou\n",
        "\n",
        "Permission is hereby granted, free of charge, to any person obtaining a copy of this software and associated documentation file (the “Software”), to deal in the Software without restriction, including without limitation the rights to use, copy, modify, merge, publish,  distribute, sublicense, and/or sell copies of the Software, and to permit  persons to whom the Software is furnished to do so, subject to the following conditions: The above copyright notice and this permission notice shall be included in all copies or substantial portions of the Software. THE SOFTWARE IS PROVIDED “AS IS”, WITHOUT WARRANTY OF ANY KIND,\n",
        "EXPRESS OR IMPLIED, INCLUDING BUT NOT LIMITED TO THE WARRANTIES OF MERCHANTABILITY, FITNESS FOR A PARTICULAR PURPOSE AND NONINFRINGEMENT. IN NO EVENT SHALL THE AUTHORS OR COPYRIGHT HOLDERS BE LIABLE FOR ANY CLAIM, DAMAGES OR OTHER LIABILITY, WHETHER IN AN ACTION OF CONTRACT, TORT OR OTHERWISE, ARISING FROM, OUT OF OR IN CONNECTION WITH THE SOFTWARE OR THE USE OR OTHER DEALINGS IN THE SOFTWARE.\n",
        "```"
      ]
    },
    {
      "cell_type": "markdown",
      "metadata": {
        "id": "4368R6ujlAqW"
      },
      "source": [
        "\n",
        "# Part 1:Train your first CNN in CIFAR10 with Pytorch \n",
        "\n",
        "## Basic imports\n",
        "This tutorial will introduce you to python and pytorch concepts by training a convolutional neural network on cifar10. Before anything let's import all of our tools:"
      ]
    },
    {
      "cell_type": "code",
      "metadata": {
        "colab": {
          "base_uri": "https://localhost:8080/"
        },
        "id": "4lsEcNMZk2rT",
        "outputId": "a4b37648-e0c2-453d-a751-25106cbc187b"
      },
      "source": [
        "import torch\n",
        "import torchvision\n",
        "import numpy as np\n",
        "import random\n",
        "import torch.nn as nn\n",
        "import torch.nn.functional as F\n",
        "import torchvision.transforms as transforms\n",
        "import matplotlib.pyplot as plt\n",
        "\n",
        "classes = ('plane', 'car', 'bird', 'cat',\n",
        "           'deer', 'dog', 'frog', 'horse', 'ship', 'truck')\n",
        "\n",
        "device = 'cuda' if torch.cuda.is_available() else 'cpu'\n",
        "print(device)"
      ],
      "execution_count": null,
      "outputs": [
        {
          "output_type": "stream",
          "name": "stdout",
          "text": [
            "cuda\n"
          ]
        }
      ]
    },
    {
      "cell_type": "markdown",
      "metadata": {
        "id": "LXyVv6yrl8pH"
      },
      "source": [
        "## Input image transformations\n",
        "Next we will define some minimal input transformatios. Generally speaking the data are usually normalized/standardized to a specific range e.g. $[0,1]$\n",
        "\n",
        "We are dealing with RGB images here which means the input will be tensors of shape $[3, height, width]$. The images intensities are usually in the range [0,255] or [0,1] as in this case.\n",
        "\n",
        "We could pass them in the neural network in the rane [0,1] but often standardizing with substracting the mean and dividing by the standard deviation is prefered.\n",
        "\n",
        "$$z = \\frac{(x - \\mu)}{\\sigma}  $$ \n",
        "\n",
        "Since each channel has different statistics, this operation is applied per channel  (channel-wise). That's why you will abserve 3 different means in the code snippet. The image statistics that we will use are based on an publicly available dataset called imagenet which consists of millions of images. \n",
        "\n",
        "If one wanted to make her/his life easy, he could use $\\mu=0.5, std=0.5$ or caclulate the means and variances of the dataset himself/herself.\n",
        "\n",
        "> An important note here that is usufull for representation learning and data augmentations is that the normalization has to be applied in the end of the transformations. \n",
        "\n",
        "Image augmentations can be photometric transformations i.e. sharpening an image or blurring it or geometric ones like image rotation or translation.\n",
        "\n",
        "Images are usually loaded with an imaging processing library like opencv or pillow or even numpy arrays. Pytorch uses pillow under the hood. Ultimetly, this means that one has to convert the input images to tensor type so that the gradients can be tracked down from back-propagation.\n",
        "\n",
        "All modern deep learning frameworks process tensors so be sure to import your data properly.\n",
        "\n"
      ]
    },
    {
      "cell_type": "code",
      "metadata": {
        "id": "bmAJ5omXnMtK"
      },
      "source": [
        "mean = torch.tensor([0.485, 0.456, 0.406], dtype=torch.float32)\n",
        "std = torch.tensor([0.229, 0.224, 0.225], dtype=torch.float32)\n",
        "\n",
        "normalize = transforms.Normalize(mean.tolist(), std.tolist())\n",
        "\n",
        "\n",
        "transform = transforms.Compose(\n",
        "    [transforms.ToTensor(),\n",
        "     normalize])"
      ],
      "execution_count": null,
      "outputs": []
    },
    {
      "cell_type": "markdown",
      "metadata": {
        "id": "EEPPuGov5erW"
      },
      "source": [
        "## Image show function\n",
        "\n",
        "Since the image is mean/std normalized then we need to bring it back to [0,1] for visualiztion. This is achieved by canceling our previous normalization:"
      ]
    },
    {
      "cell_type": "code",
      "metadata": {
        "id": "prLN0imo5dSJ"
      },
      "source": [
        "unnormalize = transforms.Normalize((-mean / std).tolist(), (1.0 / std).tolist())\n",
        "def imshow(img):\n",
        "    \"\"\"\n",
        "    shows an imagenet-normalized image on the screen\n",
        "    \"\"\"\n",
        "    npimg = unnormalize(img).numpy()\n",
        "    plt.imshow(np.transpose(npimg, (1, 2, 0)))\n",
        "    plt.show()"
      ],
      "execution_count": null,
      "outputs": []
    },
    {
      "cell_type": "markdown",
      "metadata": {
        "id": "F248ju_ipndX"
      },
      "source": [
        "## Load CIFAR10 dataset\n",
        "\n",
        "Pytorch has a set of datasets that you can download and use right away in a single line of code. This process would take you hours or days dependend on your experience for a custom dataset. \n",
        "\n",
        "> General note: vision models are typically trained with random crops, while center crops is used during inference. This introduces a discrepancy in the object sizes seen during training and inference.\n",
        "\n",
        "For now we don't have to deal with this issue.\n",
        "\n",
        "The `torchvision` library of Pytorch contains code for preparing CIFAR10. "
      ]
    },
    {
      "cell_type": "code",
      "metadata": {
        "colab": {
          "base_uri": "https://localhost:8080/",
          "height": 104,
          "referenced_widgets": [
            "1c02ad7989c44e528d1a2b186de6e256",
            "1670f9417eda446c9c19113ad1443a4a",
            "9ed5921514444c269818f6b7044c3350",
            "6ef3b2507ee94e09a7b239bbb4e71c16",
            "5a2cbdbff7db4c7986fa0a200b0758a1",
            "d2b0cde4687d4d3faeaffa8bda68c9b9",
            "d4a7ebfc27804b6fb3b5f4aafbe3914c",
            "12dc679ada63410a8703ff0eafd4cd22",
            "ec4e5afea1574985a3bc6f0fab14cf6e",
            "7ad578e5c1de4c06b586a810715edb4f",
            "878adc9d81f3427e8bd06ae6e5bc212c"
          ]
        },
        "id": "Lnnm6ngMl1v8",
        "outputId": "600a3683-597c-462d-8446-08aba9ba58b4"
      },
      "source": [
        "trainset = torchvision.datasets.CIFAR10(root='./data', train=True,\n",
        "                                        download=True, transform=transform)\n",
        "\n",
        "valset = torchvision.datasets.CIFAR10(root='./data', train=False,\n",
        "                                       download=True, transform=transform)"
      ],
      "execution_count": null,
      "outputs": [
        {
          "output_type": "stream",
          "name": "stdout",
          "text": [
            "Downloading https://www.cs.toronto.edu/~kriz/cifar-10-python.tar.gz to ./data/cifar-10-python.tar.gz\n"
          ]
        },
        {
          "output_type": "display_data",
          "data": {
            "application/vnd.jupyter.widget-view+json": {
              "model_id": "1c02ad7989c44e528d1a2b186de6e256",
              "version_minor": 0,
              "version_major": 2
            },
            "text/plain": [
              "  0%|          | 0/170498071 [00:00<?, ?it/s]"
            ]
          },
          "metadata": {}
        },
        {
          "output_type": "stream",
          "name": "stdout",
          "text": [
            "Extracting ./data/cifar-10-python.tar.gz to ./data\n",
            "Files already downloaded and verified\n"
          ]
        }
      ]
    },
    {
      "cell_type": "markdown",
      "metadata": {
        "id": "397KrMBW72-A"
      },
      "source": [
        "## Visualizing input images\n",
        "\n",
        "We have our data. Let's see some of them since we have a ploting functionality ready:"
      ]
    },
    {
      "cell_type": "code",
      "metadata": {
        "colab": {
          "base_uri": "https://localhost:8080/",
          "height": 321
        },
        "id": "a0YR4OrZ7RZC",
        "outputId": "b7e31ec2-9c46-4c6a-8ce8-bb0438d18928"
      },
      "source": [
        "# load an image from the dataset\n",
        "image, label = trainset[400] # index 400 here\n",
        "imshow(image)\n",
        "print(f\"Image class: {classes[label]}\")\n",
        "print(f\"Image shape is {image.shape}\")\n",
        "print(f\"Dataset size: {len(trainset)} images\")"
      ],
      "execution_count": null,
      "outputs": [
        {
          "output_type": "display_data",
          "data": {
            "image/png": "[encoded data removed]",
            "text/plain": [
              "<Figure size 432x288 with 1 Axes>"
            ]
          },
          "metadata": {
            "needs_background": "light"
          }
        },
        {
          "output_type": "stream",
          "name": "stdout",
          "text": [
            "Image class: bird\n",
            "Image shape is torch.Size([3, 32, 32])\n",
            "Dataset size: 50000 images\n"
          ]
        }
      ]
    },
    {
      "cell_type": "markdown",
      "metadata": {
        "id": "aJ8Ea0GKqUtX"
      },
      "source": [
        "## Batching images: DataLoaders\n",
        "The dataset is ready but we are not quite there yet. Mini-batch gradient descent works with small batches of data, here, images.\n",
        "\n",
        "We need another functionality to \"group\" images together so that they can be fed to the CNN.\n",
        "\n",
        "The so-called batch size size in this tutorial will be 16. \n",
        "\n",
        "In general, we use batch sizes that are multiple of 32 in GPU's for maximum hardware utilization.\n",
        "\n",
        "Pytorch provides the `DataLoader` class to make our lifes easier.\n",
        "\n",
        "The process of \"batching\" data together is completely independent of the training, so we can have multiple threads, called workers, loading data on the cpu while our model is training on the GPU. Here we set for 2 workers.\n",
        "\n",
        "A trick that you can do to optimize the data transfer between CPU and GPU in Pytorch is to use `pin_memory=True` in the DataLoader. This enables faster data tranfer. No need to do that on the val/test data though.\n",
        "\n",
        "Moreover, train data need to be shuffled. You don't all dog images for instance to be on the same batch. Because this may cause information leak. This is particularly usefull in representation learning. Nonetheless, we need to make our results reproducible. That's way we will feed all the random number generators with a seed.\n",
        "\n",
        "And tha's pretty much it for the data part!"
      ]
    },
    {
      "cell_type": "code",
      "metadata": {
        "id": "-2b2jWz-qald"
      },
      "source": [
        "def seed_everything(seed):\n",
        "    torch.manual_seed(seed)\n",
        "    torch.backends.cudnn.deterministic = True\n",
        "    torch.backends.cudnn.benchmark = False\n",
        "    np.random.seed(seed)\n",
        "    random.seed(seed)\n",
        "    if (torch.cuda.is_available()):\n",
        "        torch.cuda.manual_seed(seed)\n",
        "\n",
        "seed_everything(99)\n",
        "batch_size = 16\n",
        "trainloader = torch.utils.data.DataLoader(trainset, batch_size=batch_size,\n",
        "                                          shuffle=True, num_workers=2, \n",
        "                                          pin_memory=True)\n",
        "\n",
        "testloader = torch.utils.data.DataLoader(valset, batch_size=batch_size,\n",
        "                                         shuffle=False, num_workers=2)"
      ],
      "execution_count": null,
      "outputs": []
    },
    {
      "cell_type": "markdown",
      "metadata": {
        "id": "7amKNH_9OtBA"
      },
      "source": [
        "# Putting it all together"
      ]
    },
    {
      "cell_type": "code",
      "metadata": {
        "colab": {
          "base_uri": "https://localhost:8080/"
        },
        "id": "My0m0fDOI7vE",
        "outputId": "e7d9e270-bd0d-45f6-c391-268652df8bef"
      },
      "source": [
        "def load_cifar10_data(transform, train=True, batch_size=16):\n",
        "    pin = True if train else False\n",
        "    dataset = torchvision.datasets.CIFAR10(root='./data',  transform=transform, download=True)\n",
        "    loader = torch.utils.data.DataLoader(dataset, \n",
        "                                         batch_size=batch_size,\n",
        "                                         shuffle=False,\n",
        "                                         num_workers=2,\n",
        "                                         pin_memory=pin)\n",
        "    return loader\n",
        "\n",
        "\n",
        "trainloader = load_cifar10_data(transform, True)\n",
        "valloader = load_cifar10_data(transform, False)"
      ],
      "execution_count": null,
      "outputs": [
        {
          "output_type": "stream",
          "name": "stdout",
          "text": [
            "Files already downloaded and verified\n",
            "Files already downloaded and verified\n"
          ]
        }
      ]
    },
    {
      "cell_type": "markdown",
      "metadata": {
        "id": "ayRo-nGhJBvi"
      },
      "source": [
        "# Plot a batch of data"
      ]
    },
    {
      "cell_type": "code",
      "metadata": {
        "colab": {
          "base_uri": "https://localhost:8080/",
          "height": 377
        },
        "id": "5JQT91VwFEQN",
        "outputId": "f381983a-b57a-4ecf-f871-824cc68a754d"
      },
      "source": [
        "def plot_a_batch_of_images(loader, model=None, num_images=4):\n",
        "  # get some random training images\n",
        "  \n",
        "  images, labels = iter(loader).next()\n",
        "  batch_size = images.shape[0]\n",
        "  # show images\n",
        "  imshow(torchvision.utils.make_grid(images[:num_images,...]))\n",
        "\n",
        "  print('\\nGroundTruth: ', ' '.join('%5s' % classes[labels[j]] for j in range(4)))\n",
        "  if model is not None:\n",
        "    model.to('cpu')\n",
        "    outputs = model(images).to('cpu')\n",
        "    # argmax  \n",
        "    _, predicted = torch.max(outputs, 1)\n",
        "\n",
        "    print('Predicted: ', ' '.join('%5s' % classes[predicted[j]]\n",
        "                              for j in range(num_images)))\n",
        "\n",
        "plot_a_batch_of_images(trainloader)"
      ],
      "execution_count": null,
      "outputs": [
        {
          "output_type": "stream",
          "name": "stderr",
          "text": [
            "Traceback (most recent call last):\n",
            "  File \"/usr/lib/python3.7/multiprocessing/queues.py\", line 242, in _feed\n",
            "    send_bytes(obj)\n",
            "  File \"/usr/lib/python3.7/multiprocessing/connection.py\", line 200, in send_bytes\n",
            "    self._send_bytes(m[offset:offset + size])\n",
            "  File \"/usr/lib/python3.7/multiprocessing/connection.py\", line 404, in _send_bytes\n",
            "    self._send(header + buf)\n",
            "  File \"/usr/lib/python3.7/multiprocessing/connection.py\", line 368, in _send\n",
            "    n = write(self._handle, buf)\n",
            "BrokenPipeError: [Errno 32] Broken pipe\n",
            "Clipping input data to the valid range for imshow with RGB data ([0..1] for floats or [0..255] for integers).\n"
          ]
        },
        {
          "output_type": "display_data",
          "data": {
            "image/png": "[encoded data removed]",
            "text/plain": [
              "<Figure size 432x288 with 1 Axes>"
            ]
          },
          "metadata": {
            "needs_background": "light"
          }
        },
        {
          "output_type": "stream",
          "name": "stdout",
          "text": [
            "\n",
            "GroundTruth:   frog truck truck  deer\n"
          ]
        }
      ]
    },
    {
      "cell_type": "markdown",
      "metadata": {
        "id": "V5ADOkOsJPgj"
      },
      "source": [
        "## Create our convnet with 2 heads\n",
        "\n",
        "Next we will create our model. We will use 3 conv layers followed by batch normalization and relu activation. Notice the order of this operations that one conv-block. Batch normalization is appied before relu so that it centers the feature before taking only the positive values with relu.\n",
        "\n",
        "A nice exersice here would be to calclulate the spatial dimensions of the feature map based on a 32x32 image. If you cannot caclulate it you can print the shape of the tensor of the output of the backbone model. Backbone or stem is a common terminology to say that this is the part of the network that can used for transfer learning or fine-tuning.\n",
        "\n",
        "In our case it's just training from scratch in CIFAR10. Nonetheless we will familiarize ourself with the multi-crop strategy so that we can process variable-size images, e.g. 32x32 and 16x16 images.\n",
        "\n",
        "A different MLP , called head, will be used to infer the class image based on the features. Pay attention to the fact that both heads share the same backbone network.\n",
        "\n",
        "\n",
        "You can find more about in these two papers: [HydraNet](https://openaccess.thecvf.com/content_cvpr_2018/papers/Mullapudi_HydraNets_Specialized_Dynamic_CVPR_2018_paper.pdf)\n",
        "and [FixRes](https://arxiv.org/abs/1906.06423)\n",
        "\n"
      ]
    },
    {
      "cell_type": "code",
      "metadata": {
        "id": "zor2e5FiFudm"
      },
      "source": [
        "class ConvModel(nn.Module):\n",
        "    def __init__(self, in_channels=3, classes=10):\n",
        "        super().__init__()\n",
        "        conv1 = nn.Sequential(\n",
        "                        nn.Conv2d(in_channels, 32, 5),\n",
        "                        nn.BatchNorm2d(32),\n",
        "                        nn.ReLU(inplace=True),\n",
        "                        nn.MaxPool2d(2, 2))\n",
        "        \n",
        "        conv2 = nn.Sequential(\n",
        "                        nn.Conv2d(32, 64, 3),\n",
        "                        nn.BatchNorm2d(64),\n",
        "                        nn.ReLU(inplace=True),)\n",
        "\n",
        "        conv3 = nn.Sequential(\n",
        "                        nn.Conv2d(64, 64, 3),\n",
        "                        nn.BatchNorm2d(64),\n",
        "                        nn.ReLU(inplace=True))\n",
        "        \n",
        "        self.backbone = nn.Sequential(conv1,\n",
        "                                      conv2,\n",
        "                                      conv3)\n",
        "        \n",
        "        # for different image resolutions\n",
        "        self.feats32x32 = 6400\n",
        "        # for 32x32 images\n",
        "        self.head1 = nn.Sequential(\n",
        "                        nn.Linear(6400, 128),\n",
        "                        nn.ReLU(inplace=True),\n",
        "                        nn.Linear(128, classes))\n",
        "        \n",
        "        # for 16x16 images\n",
        "        self.head2 = nn.Sequential(\n",
        "                        nn.Linear(256, 128),\n",
        "                        nn.ReLU(inplace=True),\n",
        "                        nn.Linear(128, classes))\n",
        "\n",
        "    def forward(self, x):\n",
        "        batch_size = x.shape[0]\n",
        "        representation = self.backbone(x)\n",
        "        # flattens all dimensions except the batch dim\n",
        "        # -1 is for computing automatically\n",
        "        z = representation.view(batch_size,-1) \n",
        "        return self.head1(z) if z.shape[-1] == self.feats32x32 else self.head2(z)\n",
        "\n"
      ],
      "execution_count": null,
      "outputs": []
    },
    {
      "cell_type": "markdown",
      "metadata": {
        "id": "zEnTEy1tNodH"
      },
      "source": [
        "## Test our model on dummy data: mocking\n",
        "\n",
        "A good strategy is to perform a forward pass and see that our model outputs the expected tensor shape."
      ]
    },
    {
      "cell_type": "code",
      "metadata": {
        "colab": {
          "base_uri": "https://localhost:8080/"
        },
        "id": "h5Agwra3Nlxg",
        "outputId": "ebf32b3f-53f5-42bf-ed39-a9bc103a351d"
      },
      "source": [
        "net = ConvModel()\n",
        "a = torch.rand(1,3,32,32)\n",
        "b = torch.rand(1,3,32,32)\n",
        "y1 = net(a)\n",
        "y2 = net(b)\n",
        "\n",
        "assert y1.shape == y2.shape\n",
        "assert y1.shape[-1] == 10\n",
        "print(y1.shape)\n",
        "print('Test OK!')"
      ],
      "execution_count": null,
      "outputs": [
        {
          "output_type": "stream",
          "name": "stdout",
          "text": [
            "torch.Size([1, 10])\n",
            "Test OK!\n"
          ]
        },
        {
          "output_type": "stream",
          "name": "stderr",
          "text": [
            "/usr/local/lib/python3.7/dist-packages/torch/nn/functional.py:718: UserWarning: Named tensors and all their associated APIs are an experimental feature and subject to change. Please do not use them for anything important until they are released as stable. (Triggered internally at  /pytorch/c10/core/TensorImpl.h:1156.)\n",
            "  return torch.max_pool2d(input, kernel_size, stride, padding, dilation, ceil_mode)\n"
          ]
        }
      ]
    },
    {
      "cell_type": "markdown",
      "metadata": {
        "id": "lTSeXzm7LyoA"
      },
      "source": [
        "# Optimizers and cross entropy loss function\n",
        "\n",
        "Our fancy conv net has roughly 1M parameters. This will be optimized with our SGD optimizer that is responsible for clearning out previous gradient values and storing the gradients of the current step, as well as updating the actual model's parameters based on the update rule.\n",
        "\n",
        "Different optimizers vary on the different update rules. Here we will just use SGD.\n",
        "\n",
        "Additionally we will use the [cross-entropy](https://en.wikipedia.org/wiki/Cross_entropy) loss. It accepts the pred and target when calling it\n",
        "\n",
        "`loss_scalr_value = criterion(pred,target)`\n",
        "\n",
        "Target is usually a integer tensor which indicates the class number. The conversion to one-hot-encoding is happening internally.\n"
      ]
    },
    {
      "cell_type": "code",
      "metadata": {
        "id": "AVlfP6b_LsOJ",
        "colab": {
          "base_uri": "https://localhost:8080/"
        },
        "outputId": "20182989-19ee-4701-9517-cd2cf4e6d329"
      },
      "source": [
        "import torch.optim as optim\n",
        "\n",
        "pytorch_total_params = sum(p.numel() for p in net.parameters() if p.requires_grad)/1000000\n",
        "\n",
        "print(f\"Parameters: {pytorch_total_params} millions\")\n",
        "\n",
        "criterion = nn.CrossEntropyLoss()\n",
        "optimizer = optim.SGD(net.parameters(), lr=0.001, momentum=0.9)"
      ],
      "execution_count": null,
      "outputs": [
        {
          "output_type": "stream",
          "name": "stdout",
          "text": [
            "Parameters: 0.91298 millions\n"
          ]
        }
      ]
    },
    {
      "cell_type": "markdown",
      "metadata": {
        "id": "HkkJr0O1L5zA"
      },
      "source": [
        "# The training loop\n",
        "\n",
        "You need to familiarize yourself with runnning training loops. Here is a minimall training loop with some comments to help you understand what's happening.\n",
        "\n",
        "The training will be held on the GPU `device` so each batch needs to be moved to the GPU before being fed into the model. The model is moved to the GPU before training.\n",
        "\n",
        "The best practice here is to minimize CPU <--> GPU communication.\n"
      ]
    },
    {
      "cell_type": "code",
      "metadata": {
        "id": "_XDwJJLJL0T_"
      },
      "source": [
        "import torch.optim as optim\n",
        "\n",
        "def train(model, trainloader, epochs, device):\n",
        "  criterion = nn.CrossEntropyLoss()\n",
        "  optimizer = optim.SGD(model.parameters(), lr=0.001, momentum=0.9)\n",
        "  model.train()\n",
        "  model.to(device)\n",
        "  epoch_loss = []\n",
        "  # loop over the dataset multiple times\n",
        "  for epoch in range(epochs):  \n",
        "      running_loss = 0.0\n",
        "      for i, data in enumerate(trainloader):\n",
        "          # get the inputs; data is a list of [inputs, labels]\n",
        "          inputs, labels = data[0].to(device) , data[1].to(device)\n",
        "\n",
        "          # zero the parameter gradients\n",
        "          optimizer.zero_grad()\n",
        "\n",
        "          # forward + backward + optimize\n",
        "          outputs = model(inputs)\n",
        "          loss = criterion(outputs, labels)\n",
        "          loss.backward()\n",
        "          optimizer.step()\n",
        "\n",
        "          # track statistics\n",
        "          running_loss += loss.item()\n",
        "      print(f\"Epoch [{epoch + 1} / {epochs}] Loss: {running_loss/len(trainloader)}\")\n",
        "      epoch_loss.append(running_loss)\n",
        "      running_loss = 0.0\n",
        "      \n",
        "\n",
        "  print('Finished Training')\n",
        "  return model,epoch_loss"
      ],
      "execution_count": null,
      "outputs": []
    },
    {
      "cell_type": "markdown",
      "metadata": {
        "id": "3P8GsL9uM4HH"
      },
      "source": [
        "# Test and visual evaluation\n",
        "\n",
        "This function will evaluate our model's performance for the test set and/or val set. We use argmax `_, predicted_argmax = torch.max(outputs.data, 1)` to get the class index."
      ]
    },
    {
      "cell_type": "code",
      "metadata": {
        "id": "lpK30Oq5MaUM"
      },
      "source": [
        "def test(model, device, testloader):\n",
        "  correct = 0\n",
        "  total = 0\n",
        "  model.eval()\n",
        "  model.to(device)\n",
        "  # since we're not training, we don't need to calculate the gradients for our outputs\n",
        "  with torch.no_grad():\n",
        "      for data in testloader:\n",
        "          images, labels = data[0].to(device) , data[1].to(device)\n",
        "          # calculate outputs by running images through the network\n",
        "          outputs = model(images)\n",
        "          # argmax: the class with the highest probability is what we choose as prediction\n",
        "          _, predicted = torch.max(outputs.data, 1)\n",
        "          total += labels.size(0)\n",
        "          correct += (predicted == labels).sum().item()\n",
        "\n",
        "  print('Accuracy of the network on the 10000 test images: %d %%' % (\n",
        "      100 * correct / total))\n",
        "    "
      ],
      "execution_count": null,
      "outputs": []
    },
    {
      "cell_type": "markdown",
      "metadata": {
        "id": "fgWNlCPfJcYL"
      },
      "source": [
        "# Main function\n",
        "\n",
        "Let put everything togeher and let it run! \n",
        "\n",
        "Observe how the initial acccuracy that is actually a random guess skyrockets even from the first epoch!"
      ]
    },
    {
      "cell_type": "code",
      "metadata": {
        "colab": {
          "base_uri": "https://localhost:8080/",
          "height": 400
        },
        "id": "xMcIckw_OH4w",
        "outputId": "c251cef9-3a4f-42c0-9d88-34c49b0dcbc4"
      },
      "source": [
        "def main():\n",
        "    device = 'cuda' if torch.cuda.is_available() else 'cpu'\n",
        "    trainloader = load_cifar10_data(transform, True, batch_size=32)\n",
        "    valloader = load_cifar10_data(transform, False, batch_size=64)\n",
        "\n",
        "    model = ConvModel()\n",
        "    # let's test model's initial accuracy for comparison\n",
        "    test(model, device, valloader)\n",
        "\n",
        "    model, epoch_losses = train(model, trainloader, epochs=2, device=device)\n",
        "\n",
        "    test(model, device, valloader)\n",
        "    \n",
        "    plot_a_batch_of_images(valloader,model)\n",
        "    \n",
        "main()"
      ],
      "execution_count": null,
      "outputs": [
        {
          "output_type": "stream",
          "name": "stdout",
          "text": [
            "Files already downloaded and verified\n",
            "Files already downloaded and verified\n"
          ]
        },
        {
          "output_type": "error",
          "ename": "KeyboardInterrupt",
          "evalue": "ignored",
          "traceback": [
            "\u001b[0;31m---------------------------------------------------------------------------\u001b[0m",
            "\u001b[0;31mKeyboardInterrupt\u001b[0m                         Traceback (most recent call last)",
            "\u001b[0;32m<ipython-input-25-d1df0dcda3a1>\u001b[0m in \u001b[0;36m<module>\u001b[0;34m()\u001b[0m\n\u001b[1;32m     14\u001b[0m     \u001b[0mplot_a_batch_of_images\u001b[0m\u001b[0;34m(\u001b[0m\u001b[0mvalloader\u001b[0m\u001b[0;34m,\u001b[0m\u001b[0mmodel\u001b[0m\u001b[0;34m)\u001b[0m\u001b[0;34m\u001b[0m\u001b[0;34m\u001b[0m\u001b[0m\n\u001b[1;32m     15\u001b[0m \u001b[0;34m\u001b[0m\u001b[0m\n\u001b[0;32m---> 16\u001b[0;31m \u001b[0mmain\u001b[0m\u001b[0;34m(\u001b[0m\u001b[0;34m)\u001b[0m\u001b[0;34m\u001b[0m\u001b[0;34m\u001b[0m\u001b[0m\n\u001b[0m",
            "\u001b[0;32m<ipython-input-25-d1df0dcda3a1>\u001b[0m in \u001b[0;36mmain\u001b[0;34m()\u001b[0m\n\u001b[1;32m      2\u001b[0m     \u001b[0mdevice\u001b[0m \u001b[0;34m=\u001b[0m \u001b[0;34m'cuda'\u001b[0m \u001b[0;32mif\u001b[0m \u001b[0mtorch\u001b[0m\u001b[0;34m.\u001b[0m\u001b[0mcuda\u001b[0m\u001b[0;34m.\u001b[0m\u001b[0mis_available\u001b[0m\u001b[0;34m(\u001b[0m\u001b[0;34m)\u001b[0m \u001b[0;32melse\u001b[0m \u001b[0;34m'cpu'\u001b[0m\u001b[0;34m\u001b[0m\u001b[0;34m\u001b[0m\u001b[0m\n\u001b[1;32m      3\u001b[0m     \u001b[0mtrainloader\u001b[0m \u001b[0;34m=\u001b[0m \u001b[0mload_cifar10_data\u001b[0m\u001b[0;34m(\u001b[0m\u001b[0mtransform\u001b[0m\u001b[0;34m,\u001b[0m \u001b[0;32mTrue\u001b[0m\u001b[0;34m,\u001b[0m \u001b[0mbatch_size\u001b[0m\u001b[0;34m=\u001b[0m\u001b[0;36m32\u001b[0m\u001b[0;34m)\u001b[0m\u001b[0;34m\u001b[0m\u001b[0;34m\u001b[0m\u001b[0m\n\u001b[0;32m----> 4\u001b[0;31m     \u001b[0mvalloader\u001b[0m \u001b[0;34m=\u001b[0m \u001b[0mload_cifar10_data\u001b[0m\u001b[0;34m(\u001b[0m\u001b[0mtransform\u001b[0m\u001b[0;34m,\u001b[0m \u001b[0;32mFalse\u001b[0m\u001b[0;34m,\u001b[0m \u001b[0mbatch_size\u001b[0m\u001b[0;34m=\u001b[0m\u001b[0;36m64\u001b[0m\u001b[0;34m)\u001b[0m\u001b[0;34m\u001b[0m\u001b[0;34m\u001b[0m\u001b[0m\n\u001b[0m\u001b[1;32m      5\u001b[0m \u001b[0;34m\u001b[0m\u001b[0m\n\u001b[1;32m      6\u001b[0m     \u001b[0mmodel\u001b[0m \u001b[0;34m=\u001b[0m \u001b[0mConvModel\u001b[0m\u001b[0;34m(\u001b[0m\u001b[0;34m)\u001b[0m\u001b[0;34m\u001b[0m\u001b[0;34m\u001b[0m\u001b[0m\n",
            "\u001b[0;32m<ipython-input-7-62a94a7f3517>\u001b[0m in \u001b[0;36mload_cifar10_data\u001b[0;34m(transform, train, batch_size)\u001b[0m\n\u001b[1;32m      1\u001b[0m \u001b[0;32mdef\u001b[0m \u001b[0mload_cifar10_data\u001b[0m\u001b[0;34m(\u001b[0m\u001b[0mtransform\u001b[0m\u001b[0;34m,\u001b[0m \u001b[0mtrain\u001b[0m\u001b[0;34m=\u001b[0m\u001b[0;32mTrue\u001b[0m\u001b[0;34m,\u001b[0m \u001b[0mbatch_size\u001b[0m\u001b[0;34m=\u001b[0m\u001b[0;36m16\u001b[0m\u001b[0;34m)\u001b[0m\u001b[0;34m:\u001b[0m\u001b[0;34m\u001b[0m\u001b[0;34m\u001b[0m\u001b[0m\n\u001b[1;32m      2\u001b[0m     \u001b[0mpin\u001b[0m \u001b[0;34m=\u001b[0m \u001b[0;32mTrue\u001b[0m \u001b[0;32mif\u001b[0m \u001b[0mtrain\u001b[0m \u001b[0;32melse\u001b[0m \u001b[0;32mFalse\u001b[0m\u001b[0;34m\u001b[0m\u001b[0;34m\u001b[0m\u001b[0m\n\u001b[0;32m----> 3\u001b[0;31m     \u001b[0mdataset\u001b[0m \u001b[0;34m=\u001b[0m \u001b[0mtorchvision\u001b[0m\u001b[0;34m.\u001b[0m\u001b[0mdatasets\u001b[0m\u001b[0;34m.\u001b[0m\u001b[0mCIFAR10\u001b[0m\u001b[0;34m(\u001b[0m\u001b[0mroot\u001b[0m\u001b[0;34m=\u001b[0m\u001b[0;34m'./data'\u001b[0m\u001b[0;34m,\u001b[0m  \u001b[0mtransform\u001b[0m\u001b[0;34m=\u001b[0m\u001b[0mtransform\u001b[0m\u001b[0;34m,\u001b[0m \u001b[0mdownload\u001b[0m\u001b[0;34m=\u001b[0m\u001b[0;32mTrue\u001b[0m\u001b[0;34m)\u001b[0m\u001b[0;34m\u001b[0m\u001b[0;34m\u001b[0m\u001b[0m\n\u001b[0m\u001b[1;32m      4\u001b[0m     loader = torch.utils.data.DataLoader(dataset, \n\u001b[1;32m      5\u001b[0m                                          \u001b[0mbatch_size\u001b[0m\u001b[0;34m=\u001b[0m\u001b[0mbatch_size\u001b[0m\u001b[0;34m,\u001b[0m\u001b[0;34m\u001b[0m\u001b[0;34m\u001b[0m\u001b[0m\n",
            "\u001b[0;32m/usr/local/lib/python3.7/dist-packages/torchvision/datasets/cifar.py\u001b[0m in \u001b[0;36m__init__\u001b[0;34m(self, root, train, transform, target_transform, download)\u001b[0m\n\u001b[1;32m     65\u001b[0m             \u001b[0mself\u001b[0m\u001b[0;34m.\u001b[0m\u001b[0mdownload\u001b[0m\u001b[0;34m(\u001b[0m\u001b[0;34m)\u001b[0m\u001b[0;34m\u001b[0m\u001b[0;34m\u001b[0m\u001b[0m\n\u001b[1;32m     66\u001b[0m \u001b[0;34m\u001b[0m\u001b[0m\n\u001b[0;32m---> 67\u001b[0;31m         \u001b[0;32mif\u001b[0m \u001b[0;32mnot\u001b[0m \u001b[0mself\u001b[0m\u001b[0;34m.\u001b[0m\u001b[0m_check_integrity\u001b[0m\u001b[0;34m(\u001b[0m\u001b[0;34m)\u001b[0m\u001b[0;34m:\u001b[0m\u001b[0;34m\u001b[0m\u001b[0;34m\u001b[0m\u001b[0m\n\u001b[0m\u001b[1;32m     68\u001b[0m             raise RuntimeError('Dataset not found or corrupted.' +\n\u001b[1;32m     69\u001b[0m                                ' You can use download=True to download it')\n",
            "\u001b[0;32m/usr/local/lib/python3.7/dist-packages/torchvision/datasets/cifar.py\u001b[0m in \u001b[0;36m_check_integrity\u001b[0;34m(self)\u001b[0m\n\u001b[1;32m    133\u001b[0m             \u001b[0mfilename\u001b[0m\u001b[0;34m,\u001b[0m \u001b[0mmd5\u001b[0m \u001b[0;34m=\u001b[0m \u001b[0mfentry\u001b[0m\u001b[0;34m[\u001b[0m\u001b[0;36m0\u001b[0m\u001b[0;34m]\u001b[0m\u001b[0;34m,\u001b[0m \u001b[0mfentry\u001b[0m\u001b[0;34m[\u001b[0m\u001b[0;36m1\u001b[0m\u001b[0;34m]\u001b[0m\u001b[0;34m\u001b[0m\u001b[0;34m\u001b[0m\u001b[0m\n\u001b[1;32m    134\u001b[0m             \u001b[0mfpath\u001b[0m \u001b[0;34m=\u001b[0m \u001b[0mos\u001b[0m\u001b[0;34m.\u001b[0m\u001b[0mpath\u001b[0m\u001b[0;34m.\u001b[0m\u001b[0mjoin\u001b[0m\u001b[0;34m(\u001b[0m\u001b[0mroot\u001b[0m\u001b[0;34m,\u001b[0m \u001b[0mself\u001b[0m\u001b[0;34m.\u001b[0m\u001b[0mbase_folder\u001b[0m\u001b[0;34m,\u001b[0m \u001b[0mfilename\u001b[0m\u001b[0;34m)\u001b[0m\u001b[0;34m\u001b[0m\u001b[0;34m\u001b[0m\u001b[0m\n\u001b[0;32m--> 135\u001b[0;31m             \u001b[0;32mif\u001b[0m \u001b[0;32mnot\u001b[0m \u001b[0mcheck_integrity\u001b[0m\u001b[0;34m(\u001b[0m\u001b[0mfpath\u001b[0m\u001b[0;34m,\u001b[0m \u001b[0mmd5\u001b[0m\u001b[0;34m)\u001b[0m\u001b[0;34m:\u001b[0m\u001b[0;34m\u001b[0m\u001b[0;34m\u001b[0m\u001b[0m\n\u001b[0m\u001b[1;32m    136\u001b[0m                 \u001b[0;32mreturn\u001b[0m \u001b[0;32mFalse\u001b[0m\u001b[0;34m\u001b[0m\u001b[0;34m\u001b[0m\u001b[0m\n\u001b[1;32m    137\u001b[0m         \u001b[0;32mreturn\u001b[0m \u001b[0;32mTrue\u001b[0m\u001b[0;34m\u001b[0m\u001b[0;34m\u001b[0m\u001b[0m\n",
            "\u001b[0;32m/usr/local/lib/python3.7/dist-packages/torchvision/datasets/utils.py\u001b[0m in \u001b[0;36mcheck_integrity\u001b[0;34m(fpath, md5)\u001b[0m\n\u001b[1;32m     67\u001b[0m     \u001b[0;32mif\u001b[0m \u001b[0mmd5\u001b[0m \u001b[0;32mis\u001b[0m \u001b[0;32mNone\u001b[0m\u001b[0;34m:\u001b[0m\u001b[0;34m\u001b[0m\u001b[0;34m\u001b[0m\u001b[0m\n\u001b[1;32m     68\u001b[0m         \u001b[0;32mreturn\u001b[0m \u001b[0;32mTrue\u001b[0m\u001b[0;34m\u001b[0m\u001b[0;34m\u001b[0m\u001b[0m\n\u001b[0;32m---> 69\u001b[0;31m     \u001b[0;32mreturn\u001b[0m \u001b[0mcheck_md5\u001b[0m\u001b[0;34m(\u001b[0m\u001b[0mfpath\u001b[0m\u001b[0;34m,\u001b[0m \u001b[0mmd5\u001b[0m\u001b[0;34m)\u001b[0m\u001b[0;34m\u001b[0m\u001b[0;34m\u001b[0m\u001b[0m\n\u001b[0m\u001b[1;32m     70\u001b[0m \u001b[0;34m\u001b[0m\u001b[0m\n\u001b[1;32m     71\u001b[0m \u001b[0;34m\u001b[0m\u001b[0m\n",
            "\u001b[0;32m/usr/local/lib/python3.7/dist-packages/torchvision/datasets/utils.py\u001b[0m in \u001b[0;36mcheck_md5\u001b[0;34m(fpath, md5, **kwargs)\u001b[0m\n\u001b[1;32m     59\u001b[0m \u001b[0;34m\u001b[0m\u001b[0m\n\u001b[1;32m     60\u001b[0m \u001b[0;32mdef\u001b[0m \u001b[0mcheck_md5\u001b[0m\u001b[0;34m(\u001b[0m\u001b[0mfpath\u001b[0m\u001b[0;34m:\u001b[0m \u001b[0mstr\u001b[0m\u001b[0;34m,\u001b[0m \u001b[0mmd5\u001b[0m\u001b[0;34m:\u001b[0m \u001b[0mstr\u001b[0m\u001b[0;34m,\u001b[0m \u001b[0;34m**\u001b[0m\u001b[0mkwargs\u001b[0m\u001b[0;34m:\u001b[0m \u001b[0mAny\u001b[0m\u001b[0;34m)\u001b[0m \u001b[0;34m->\u001b[0m \u001b[0mbool\u001b[0m\u001b[0;34m:\u001b[0m\u001b[0;34m\u001b[0m\u001b[0;34m\u001b[0m\u001b[0m\n\u001b[0;32m---> 61\u001b[0;31m     \u001b[0;32mreturn\u001b[0m \u001b[0mmd5\u001b[0m \u001b[0;34m==\u001b[0m \u001b[0mcalculate_md5\u001b[0m\u001b[0;34m(\u001b[0m\u001b[0mfpath\u001b[0m\u001b[0;34m,\u001b[0m \u001b[0;34m**\u001b[0m\u001b[0mkwargs\u001b[0m\u001b[0;34m)\u001b[0m\u001b[0;34m\u001b[0m\u001b[0;34m\u001b[0m\u001b[0m\n\u001b[0m\u001b[1;32m     62\u001b[0m \u001b[0;34m\u001b[0m\u001b[0m\n\u001b[1;32m     63\u001b[0m \u001b[0;34m\u001b[0m\u001b[0m\n",
            "\u001b[0;32m/usr/local/lib/python3.7/dist-packages/torchvision/datasets/utils.py\u001b[0m in \u001b[0;36mcalculate_md5\u001b[0;34m(fpath, chunk_size)\u001b[0m\n\u001b[1;32m     54\u001b[0m     \u001b[0;32mwith\u001b[0m \u001b[0mopen\u001b[0m\u001b[0;34m(\u001b[0m\u001b[0mfpath\u001b[0m\u001b[0;34m,\u001b[0m \u001b[0;34m'rb'\u001b[0m\u001b[0;34m)\u001b[0m \u001b[0;32mas\u001b[0m \u001b[0mf\u001b[0m\u001b[0;34m:\u001b[0m\u001b[0;34m\u001b[0m\u001b[0;34m\u001b[0m\u001b[0m\n\u001b[1;32m     55\u001b[0m         \u001b[0;32mfor\u001b[0m \u001b[0mchunk\u001b[0m \u001b[0;32min\u001b[0m \u001b[0miter\u001b[0m\u001b[0;34m(\u001b[0m\u001b[0;32mlambda\u001b[0m\u001b[0;34m:\u001b[0m \u001b[0mf\u001b[0m\u001b[0;34m.\u001b[0m\u001b[0mread\u001b[0m\u001b[0;34m(\u001b[0m\u001b[0mchunk_size\u001b[0m\u001b[0;34m)\u001b[0m\u001b[0;34m,\u001b[0m \u001b[0;34mb''\u001b[0m\u001b[0;34m)\u001b[0m\u001b[0;34m:\u001b[0m\u001b[0;34m\u001b[0m\u001b[0;34m\u001b[0m\u001b[0m\n\u001b[0;32m---> 56\u001b[0;31m             \u001b[0mmd5\u001b[0m\u001b[0;34m.\u001b[0m\u001b[0mupdate\u001b[0m\u001b[0;34m(\u001b[0m\u001b[0mchunk\u001b[0m\u001b[0;34m)\u001b[0m\u001b[0;34m\u001b[0m\u001b[0;34m\u001b[0m\u001b[0m\n\u001b[0m\u001b[1;32m     57\u001b[0m     \u001b[0;32mreturn\u001b[0m \u001b[0mmd5\u001b[0m\u001b[0;34m.\u001b[0m\u001b[0mhexdigest\u001b[0m\u001b[0;34m(\u001b[0m\u001b[0;34m)\u001b[0m\u001b[0;34m\u001b[0m\u001b[0;34m\u001b[0m\u001b[0m\n\u001b[1;32m     58\u001b[0m \u001b[0;34m\u001b[0m\u001b[0m\n",
            "\u001b[0;31mKeyboardInterrupt\u001b[0m: "
          ]
        }
      ]
    },
    {
      "cell_type": "markdown",
      "metadata": {
        "id": "kQWdDkFilKOq"
      },
      "source": [
        "# Warmup exercise: plot the training loss per epoch\n",
        "\n",
        "Hint: You can use `matplotlib`. Both points and line should be depicted. "
      ]
    },
    {
      "cell_type": "markdown",
      "metadata": {
        "id": "YDXWsFZolWeY"
      },
      "source": [
        "# Part 2: Pass multiple image resolutions to your model at once: multi-crop train strategy\n",
        "\n",
        "Make your code support multiple image resolutions. Accumulate all the class prediction from all image tensor so that they can be used for training.\n",
        "\n",
        "\n",
        "Comments can be completely ignored. Think your own solution first.\n",
        "\n",
        "Comment indentation level is left based on the solution. You may find that helpful.\n",
        "\n",
        "`Hint`: image of the same resolution will be continouous in the list of tensors i.e 3 images 32x32 followed by 2 images of 16x16. "
      ]
    },
    {
      "cell_type": "code",
      "metadata": {
        "id": "Wc6fQ-CtoINN",
        "colab": {
          "base_uri": "https://localhost:8080/",
          "height": 340
        },
        "outputId": "eb378a36-be78-4c27-c9de-eab21b6ec818"
      },
      "source": [
        "class ConvCropWrapper(nn.Module):\n",
        "    \"\"\"\n",
        "    Perform forward pass separately on each resolution input.\n",
        "    The inputs corresponding to a single resolution are clubbed and single\n",
        "    forward is run on the same resolution inputs.\n",
        "    A different head will be used for each image resolution. \n",
        "    \"\"\"\n",
        "    def __init__(self, in_channels=3, classes=10):\n",
        "        super(ConvCropWrapper, self).__init__()\n",
        "        \n",
        "        # self.backbone = ...\n",
        "        \n",
        "        # for 32x32 images\n",
        "        # self.head1 = ...\n",
        "        \n",
        "        # for 16x16 images\n",
        "        #self.head2 = n...\n",
        "\n",
        "    def forward(self, x):\n",
        "        # if the input is not a list of images place the tensor(s) on a list\n",
        "        # this ensures backward compatibility with the prev. version\n",
        "\n",
        "\n",
        "        \n",
        "        # find crop index/indices that you should split the list\n",
        "\n",
        "\n",
        "        # perform different forward pass for each image resolution\n",
        "\n",
        "\n",
        "            # flattens all dimensions except the batch dim\n",
        "\n",
        "            # pass representation to the corresponding head \n",
        "\n",
        "\n",
        "            # accumulate outputs\n",
        "\n",
        "        # return the accumulated result\n",
        "        return \n",
        "\n",
        "# test functionality to test your wrapper.\n",
        "# if you have succeded implementing it then you will see the message:\n",
        "# Test Passed!!!\n",
        "def test_multi_crop_wrapper():\n",
        "  list_images = []\n",
        "  batch_size = 2\n",
        "  total_views = 6\n",
        "  classes = 10\n",
        "  for i in range(2):\n",
        "    list_images.append(torch.rand(batch_size, 3,32,32))\n",
        "\n",
        "  for i in range(4):\n",
        "    list_images.append(torch.rand(batch_size, 3,16,16))\n",
        "\n",
        "  model = ConvCropWrapper(classes=classes)\n",
        "  y = model(list_images)\n",
        "  print('Out tensor shape:', y.shape)\n",
        "  assert y.shape == (total_views*batch_size, classes)\n",
        "  print('Test Passed!!!')\n",
        "\n",
        "\n",
        "test_multi_crop_wrapper()"
      ],
      "execution_count": null,
      "outputs": [
        {
          "output_type": "error",
          "ename": "AttributeError",
          "evalue": "ignored",
          "traceback": [
            "\u001b[0;31m---------------------------------------------------------------------------\u001b[0m",
            "\u001b[0;31mAttributeError\u001b[0m                            Traceback (most recent call last)",
            "\u001b[0;32m<ipython-input-23-95c36c994717>\u001b[0m in \u001b[0;36m<module>\u001b[0;34m()\u001b[0m\n\u001b[1;32m     60\u001b[0m \u001b[0;34m\u001b[0m\u001b[0m\n\u001b[1;32m     61\u001b[0m \u001b[0;34m\u001b[0m\u001b[0m\n\u001b[0;32m---> 62\u001b[0;31m \u001b[0mtest_multi_crop_wrapper\u001b[0m\u001b[0;34m(\u001b[0m\u001b[0;34m)\u001b[0m\u001b[0;34m\u001b[0m\u001b[0;34m\u001b[0m\u001b[0m\n\u001b[0m",
            "\u001b[0;32m<ipython-input-23-95c36c994717>\u001b[0m in \u001b[0;36mtest_multi_crop_wrapper\u001b[0;34m()\u001b[0m\n\u001b[1;32m     55\u001b[0m   \u001b[0mmodel\u001b[0m \u001b[0;34m=\u001b[0m \u001b[0mConvCropWrapper\u001b[0m\u001b[0;34m(\u001b[0m\u001b[0mclasses\u001b[0m\u001b[0;34m=\u001b[0m\u001b[0mclasses\u001b[0m\u001b[0;34m)\u001b[0m\u001b[0;34m\u001b[0m\u001b[0;34m\u001b[0m\u001b[0m\n\u001b[1;32m     56\u001b[0m   \u001b[0my\u001b[0m \u001b[0;34m=\u001b[0m \u001b[0mmodel\u001b[0m\u001b[0;34m(\u001b[0m\u001b[0mlist_images\u001b[0m\u001b[0;34m)\u001b[0m\u001b[0;34m\u001b[0m\u001b[0;34m\u001b[0m\u001b[0m\n\u001b[0;32m---> 57\u001b[0;31m   \u001b[0mprint\u001b[0m\u001b[0;34m(\u001b[0m\u001b[0;34m'Out tensor shape:'\u001b[0m\u001b[0;34m,\u001b[0m \u001b[0my\u001b[0m\u001b[0;34m.\u001b[0m\u001b[0mshape\u001b[0m\u001b[0;34m)\u001b[0m\u001b[0;34m\u001b[0m\u001b[0;34m\u001b[0m\u001b[0m\n\u001b[0m\u001b[1;32m     58\u001b[0m   \u001b[0;32massert\u001b[0m \u001b[0my\u001b[0m\u001b[0;34m.\u001b[0m\u001b[0mshape\u001b[0m \u001b[0;34m==\u001b[0m \u001b[0;34m(\u001b[0m\u001b[0mtotal_views\u001b[0m\u001b[0;34m*\u001b[0m\u001b[0mbatch_size\u001b[0m\u001b[0;34m,\u001b[0m \u001b[0mclasses\u001b[0m\u001b[0;34m)\u001b[0m\u001b[0;34m\u001b[0m\u001b[0;34m\u001b[0m\u001b[0m\n\u001b[1;32m     59\u001b[0m   \u001b[0mprint\u001b[0m\u001b[0;34m(\u001b[0m\u001b[0;34m'Test Passed!!!'\u001b[0m\u001b[0;34m)\u001b[0m\u001b[0;34m\u001b[0m\u001b[0;34m\u001b[0m\u001b[0m\n",
            "\u001b[0;31mAttributeError\u001b[0m: 'NoneType' object has no attribute 'shape'"
          ]
        }
      ]
    },
    {
      "cell_type": "markdown",
      "metadata": {
        "id": "eoIA7vtXpDdv"
      },
      "source": [
        "# Solution to Part 2"
      ]
    },
    {
      "cell_type": "code",
      "metadata": {
        "colab": {
          "base_uri": "https://localhost:8080/"
        },
        "id": "XfdNsA8mUVny",
        "outputId": "d744ee24-18ce-453c-eefa-9e9141f8f204"
      },
      "source": [
        "class ConvCropWrapper(nn.Module):\n",
        "    \"\"\"\n",
        "    Perform forward pass separately on each resolution input.\n",
        "    The inputs corresponding to a single resolution are clubbed and single\n",
        "    forward is run on the same resolution inputs.\n",
        "    A different head will be used for each image resolution. \n",
        "    \"\"\"\n",
        "    def __init__(self, in_channels=3, classes=10):\n",
        "        super(ConvCropWrapper, self).__init__()\n",
        "        conv1 = nn.Sequential(\n",
        "                        nn.Conv2d(in_channels, 32, 5),\n",
        "                        nn.BatchNorm2d(32),\n",
        "                        nn.ReLU(inplace=True),\n",
        "                        nn.MaxPool2d(2, 2))\n",
        "        \n",
        "        conv2 = nn.Sequential(\n",
        "                        nn.Conv2d(32, 64, 3),\n",
        "                        nn.BatchNorm2d(64),\n",
        "                        nn.ReLU(inplace=True))\n",
        "\n",
        "        conv3 = nn.Sequential(\n",
        "                        nn.Conv2d(64, 64, 3),\n",
        "                        nn.BatchNorm2d(64),\n",
        "                        nn.ReLU(inplace=True))\n",
        "        \n",
        "        self.backbone = nn.Sequential(conv1,\n",
        "                                      conv2,\n",
        "                                      conv3)\n",
        "        # for different image resolutions\n",
        "        self.feats32x32 = 6400\n",
        "        # for 32x32 images\n",
        "        self.head1 = nn.Sequential(\n",
        "                        nn.Linear(6400, 128),\n",
        "                        nn.ReLU(inplace=True),\n",
        "                        nn.Linear(128, classes))\n",
        "        \n",
        "        # for 16x16 images\n",
        "        self.head2 = nn.Sequential(\n",
        "                        nn.Linear(256, 128),\n",
        "                        nn.ReLU(inplace=True),\n",
        "                        nn.Linear(128, classes))\n",
        "\n",
        "    def forward(self, x):\n",
        "        # if the input is not a list of images convert to a list\n",
        "        # this ensures backward compatibility with the prev. version\n",
        "        if not isinstance(x, list):\n",
        "            x = [x]\n",
        "        \n",
        "        # find crop index/indices that you should split the list\n",
        "        idx_crops = torch.cumsum(torch.unique_consecutive(\n",
        "            torch.tensor([inp.shape[-1] for inp in x]),\n",
        "            return_counts=True,\n",
        "        )[1], 0)\n",
        "\n",
        "        # perform different forward pass for each image resolution\n",
        "        start_idx, output = 0, torch.empty(0).to(x[0].device)\n",
        "        for end_idx in idx_crops:\n",
        "            representation = self.backbone(torch.cat(x[start_idx: end_idx],dim=0))\n",
        "\n",
        "            # flattens all dimensions except the batch dim\n",
        "            z = torch.flatten(representation,1)\n",
        "\n",
        "            # pass representation to the corresponding head \n",
        "            _out = self.head1(z) if z.shape[-1] == self.feats32x32 else self.head2(z)\n",
        "\n",
        "            # accumulate outputs\n",
        "            output = torch.cat((output, _out))\n",
        "            start_idx = end_idx\n",
        "        # return the accumulated result\n",
        "        return output\n",
        "\n",
        "def test_multi_crop_wrapper():\n",
        "  list_images = []\n",
        "  batch_size = 2\n",
        "  total_views = 6\n",
        "  classes = 10\n",
        "  for i in range(2):\n",
        "    list_images.append(torch.rand(batch_size, 3,32,32))\n",
        "\n",
        "  for i in range(4):\n",
        "    list_images.append(torch.rand(batch_size, 3,16,16))\n",
        "\n",
        "  model = ConvCropWrapper(classes=classes)\n",
        "  y = model(list_images)\n",
        "  print('Out tensor shape:', y.shape)\n",
        "  assert y.shape == (total_views*batch_size, classes)\n",
        "  print('Test Passed!!!')\n",
        "\n",
        "\n",
        "test_multi_crop_wrapper()"
      ],
      "execution_count": null,
      "outputs": [
        {
          "output_type": "stream",
          "name": "stdout",
          "text": [
            "Out tensor shape: torch.Size([12, 10])\n",
            "Test Passed!!!\n"
          ]
        }
      ]
    },
    {
      "cell_type": "markdown",
      "metadata": {
        "id": "10CsCYPwnqWJ"
      },
      "source": [
        "# Part 3: use our dataloader to train the Multi-res Conv net class in CIFAR10\n",
        "\n",
        "Below you will find the Dataloader that returns a series of CIFAR10 images with multiple resolutions. Use it to train your CNN model. This time the data will be augmented using random color jiterring and random horizontal flipping and random conversion to greyscale.\n",
        "\n",
        "This transformations are super common in visual self-supervised learning. Effectivly, augmentations increase the variability of the data so that it make sense to have multiple \"views\" of the same image. A view is defined as a stochastic image transformation.\n",
        "\n",
        "This idea is of particular interest for representation learning.\n",
        "\n",
        "- Train the model for the same epochs and compare test accuracies.\n",
        "\n",
        "- Plot the losses together comparing the 2 solutions\n",
        "\n",
        "- Plot the model accuracies in a bar plot with `matplotlib`"
      ]
    },
    {
      "cell_type": "code",
      "metadata": {
        "colab": {
          "base_uri": "https://localhost:8080/"
        },
        "id": "mHBcKb2gQSxG",
        "outputId": "e6ef9417-c86e-49cc-a37c-dad90738bcaa"
      },
      "source": [
        "from torch.utils.data import Dataset\n",
        "from torchvision import datasets, transforms\n",
        "\n",
        "class MultiCropCIFAR10(Dataset):\n",
        "    \"\"\"\n",
        "    returns an extra binary label: 0 for non-rotated and 1 for rotated images\n",
        "    \"\"\"\n",
        "    def __init__(self, global_crops, local_crops, train=True):\n",
        "        super().__init__()\n",
        "        self.global_crops = global_crops\n",
        "        self.local_crops = local_crops\n",
        "        self.dataset = datasets.CIFAR10(root='./data', train=train, download=True, transform=None)\n",
        "        self.create_transforms()\n",
        "\n",
        "    def create_transforms(self):\n",
        "        normalize = transforms.Compose([\n",
        "            transforms.ToTensor(),\n",
        "            transforms.Normalize((0.485, 0.456, 0.406), (0.229, 0.224, 0.225))])\n",
        "        \n",
        "        self.crop32x32 = transforms.Compose([\n",
        "            transforms.RandomResizedCrop(32, scale=[0.5,1]),\n",
        "            normalize ])\n",
        "        \n",
        "        self.crop16x16 = transforms.Compose([\n",
        "            transforms.RandomResizedCrop(16, scale=[0.1,0.5]),\n",
        "            normalize])\n",
        "    \n",
        "    def get_crops(self, image):\n",
        "        crops = []\n",
        "\n",
        "        for i in range(self.global_crops):\n",
        "            crops.append(self.crop32x32(image))\n",
        "\n",
        "        for i in range(self.local_crops):\n",
        "            crops.append(self.crop16x16(image))\n",
        "  \n",
        "        return crops\n",
        "\n",
        "    def __getitem__(self, index):\n",
        "        img, label = self.dataset[index]\n",
        "        # transform\n",
        "        crops = self.get_crops(img)\n",
        "        labels = [label] * len(crops)\n",
        "        return crops, labels\n",
        "\n",
        "    def __len__(self):\n",
        "        return len(self.dataset)\n",
        "\n",
        "\n",
        "\n",
        "def load_cifar10_multi_crop(train=True, global_crops=2, local_crops=2, batch_size = 16):\n",
        "  mean = torch.tensor([0.485, 0.456, 0.406], dtype=torch.float32)\n",
        "  std = torch.tensor([0.229, 0.224, 0.225], dtype=torch.float32)\n",
        "\n",
        "  shuffle = True if train else False\n",
        "\n",
        "  normalize = transforms.Normalize(mean.tolist(), std.tolist())\n",
        "\n",
        "  flip_and_color_jitter = transforms.Compose([\n",
        "  transforms.RandomHorizontalFlip(p=0.5),\n",
        "  transforms.RandomApply(\n",
        "            [transforms.ColorJitter(brightness=0.4, contrast=0.4, saturation=0.2, hue=0.1)],\n",
        "            p=0.8\n",
        "        ),\n",
        "  transforms.RandomGrayscale(p=0.2),\n",
        "    ])\n",
        "\n",
        "  transform = transforms.Compose(\n",
        "    [transforms.ToTensor(),\n",
        "    flip_and_color_jitter,\n",
        "      normalize])\n",
        "\n",
        "\n",
        "  dataset = MultiCropCIFAR10(global_crops, local_crops, train=train)\n",
        "  loader = torch.utils.data.DataLoader(dataset, batch_size=batch_size,\n",
        "                                            shuffle=shuffle, num_workers=2)\n",
        "  return loader\n",
        "\n",
        "\n",
        "def test_MultiCropCIFAR10():\n",
        "  dataset = MultiCropCIFAR10(2,2)\n",
        "  list_img, labels = dataset[1]\n",
        "  print(len(list_img))\n",
        "\n",
        "  data = next(iter(load_cifar10_multi_crop()))\n",
        "  img_list , labels = data \n",
        "\n",
        "  print(img_list[0].shape)\n",
        "  print(img_list[-1].shape)\n",
        "  assert  img_list[0].shape == (16,3,32,32)\n",
        "  assert  img_list[-1].shape == (16,3,16,16)\n",
        "  # first batch first img\n",
        "  imshow(img_list[0][0])\n",
        "  print( classes[labels[0][0]])\n",
        "  # first batch second img\n",
        "  imshow(img_list[0][1])\n",
        "  print( classes[labels[0][1]])\n",
        "  # second batch first img\n",
        "  imshow(img_list[1][0])\n",
        "  print( classes[labels[1][0]])\n",
        "  print(\"Test passed\")\n",
        "\n",
        "  print(labels[0].shape)\n",
        "\n",
        "test_MultiCropCIFAR10()\n"
      ],
      "execution_count": null,
      "outputs": [
        {
          "output_type": "stream",
          "name": "stdout",
          "text": [
            "Files already downloaded and verified\n",
            "4\n",
            "Files already downloaded and verified\n",
            "torch.Size([16, 3, 32, 32])\n",
            "torch.Size([16, 3, 16, 16])\n"
          ]
        },
        {
          "output_type": "display_data",
          "data": {
            "image/png": "[encoded data removed]",
            "text/plain": [
              "<Figure size 432x288 with 1 Axes>"
            ]
          },
          "metadata": {
            "needs_background": "light"
          }
        },
        {
          "output_type": "stream",
          "name": "stdout",
          "text": [
            "horse\n"
          ]
        },
        {
          "output_type": "display_data",
          "data": {
            "image/png": "[encoded data removed]",
            "text/plain": [
              "<Figure size 432x288 with 1 Axes>"
            ]
          },
          "metadata": {
            "needs_background": "light"
          }
        },
        {
          "output_type": "stream",
          "name": "stdout",
          "text": [
            "car\n"
          ]
        },
        {
          "output_type": "display_data",
          "data": {
            "image/png": "[encoded data removed]",
            "text/plain": [
              "<Figure size 432x288 with 1 Axes>"
            ]
          },
          "metadata": {
            "needs_background": "light"
          }
        },
        {
          "output_type": "stream",
          "name": "stdout",
          "text": [
            "horse\n",
            "Test passed\n",
            "torch.Size([16])\n"
          ]
        }
      ]
    },
    {
      "cell_type": "markdown",
      "metadata": {
        "id": "KpW9Y801JpqG"
      },
      "source": [
        "## Rewrite/adjust the train logic to support multi-res input and perform GPU training\n",
        "\n",
        "Now you need to revisit the train function and make some changes to support our multi-crop dataloader and are ConvModel that processes the images. \n",
        "\n",
        "Time to make your hands dirty! Training must be held on the GPU.\n",
        "\n",
        "The `main` function is given to test if your training code is working.\n"
      ]
    },
    {
      "cell_type": "code",
      "metadata": {
        "id": "akF0GpUoKTEN"
      },
      "source": [
        "import torch.optim as optim\n",
        "\n",
        "def train(model, training_data, epochs, device):\n",
        "  criterion = nn.CrossEntropyLoss()\n",
        "  optimizer = optim.SGD(model.parameters(), lr=0.001, momentum=0.9)\n",
        "  model.train()\n",
        "  model.to(device)\n",
        "  epoch_loss = []\n",
        "  for epoch in range(epochs):  # loop over the dataset multiple times\n",
        "      running_loss = 0.0\n",
        "      for i, data in enumerate(training_data):\n",
        "          \n",
        "          \n",
        "          # don't forget to move the data on the gpu\n",
        "          #images = ....\n",
        "          #labels = ....\n",
        "\n",
        "          # this is the same as before\n",
        "          optimizer.zero_grad()\n",
        "          outputs = model(images)\n",
        "          loss = criterion(outputs, labels)\n",
        "          loss.backward()\n",
        "          optimizer.step()\n",
        "          running_loss += loss.item()\n",
        "      print(f\"Epoch [{epoch + 1} / {epochs}] Loss: {running_loss/len(trainloader)}\")\n",
        "      epoch_loss.append(running_loss)\n",
        "      running_loss = 0.0\n",
        "      \n",
        "\n",
        "  print('Finished Training')\n",
        "  return model,epoch_loss\n",
        "\n",
        "def main():\n",
        "    mean = torch.tensor([0.485, 0.456, 0.406], dtype=torch.float32)\n",
        "    std = torch.tensor([0.229, 0.224, 0.225], dtype=torch.float32)\n",
        "\n",
        "    normalize = transforms.Normalize(mean.tolist(), std.tolist())\n",
        "\n",
        "    transform_val = transforms.Compose(\n",
        "        [transforms.ToTensor(),\n",
        "        normalize])\n",
        "    \n",
        "    device = 'cuda' if torch.cuda.is_available() else 'cpu'\n",
        "    trainloader = load_cifar10_multi_crop(True, batch_size=16)\n",
        "    valloader = load_cifar10_data(transform_val, False, batch_size=16)\n",
        "\n",
        "    model = ConvCropWrapper()\n",
        "\n",
        "    model, epoch_losses = train(model, trainloader, epochs=1, device=device)    \n",
        "    \n",
        "main()"
      ],
      "execution_count": null,
      "outputs": []
    },
    {
      "cell_type": "markdown",
      "metadata": {
        "id": "uVvj63sqKqau"
      },
      "source": [
        "# Solution to part 3"
      ]
    },
    {
      "cell_type": "code",
      "metadata": {
        "colab": {
          "base_uri": "https://localhost:8080/"
        },
        "id": "W2s7A6k8wnQy",
        "outputId": "c11742c0-df8e-4932-e188-905e5470b2a6"
      },
      "source": [
        "import torch.optim as optim\n",
        "\n",
        "def train(model, training_data, epochs, device):\n",
        "  criterion = nn.CrossEntropyLoss()\n",
        "  optimizer = optim.SGD(model.parameters(), lr=0.001, momentum=0.9)\n",
        "  model.train()\n",
        "  model.to(device)\n",
        "  epoch_loss = []\n",
        "  for epoch in range(epochs):  # loop over the dataset multiple times\n",
        "      running_loss = 0.0\n",
        "      for i, data in enumerate(training_data):\n",
        "          # get the inputs; data is a list of [images, labels]\n",
        "          # where images is again a list of tensors \n",
        "          images, labels = data[0] , data[1]\n",
        "\n",
        "          images = [im.cuda(non_blocking=True) for im in images]\n",
        "          labels = torch.cat(labels).cuda(non_blocking=True)\n",
        "\n",
        "          # zero the parameter gradients\n",
        "          optimizer.zero_grad()\n",
        "\n",
        "          # forward + backward + optimize\n",
        "          outputs = model(images)\n",
        "          loss = criterion(outputs, labels)\n",
        "          loss.backward()\n",
        "          optimizer.step()\n",
        "\n",
        "          # print statistics\n",
        "          running_loss += loss.item()\n",
        "      print(f\"Epoch [{epoch + 1} / {epochs}] Loss: {running_loss/len(trainloader)}\")\n",
        "      epoch_loss.append(running_loss)\n",
        "      running_loss = 0.0\n",
        "\n",
        "  print('Finished Training')\n",
        "  return model,epoch_loss\n",
        "\n",
        "def main():\n",
        "    mean = torch.tensor([0.485, 0.456, 0.406], dtype=torch.float32)\n",
        "    std = torch.tensor([0.229, 0.224, 0.225], dtype=torch.float32)\n",
        "\n",
        "    normalize = transforms.Normalize(mean.tolist(), std.tolist())\n",
        "\n",
        "    transform_val = transforms.Compose(\n",
        "        [transforms.ToTensor(),\n",
        "        normalize])\n",
        "    \n",
        "    device = 'cuda' if torch.cuda.is_available() else 'cpu'\n",
        "    trainloader = load_cifar10_multi_crop(True, batch_size=16)\n",
        "    valloader = load_cifar10_data(transform_val, False, batch_size=16)\n",
        "\n",
        "    model = ConvCropWrapper()\n",
        "\n",
        "    model, epoch_losses = train(model, trainloader, epochs=10, device=device)\n",
        "\n",
        "    test(model, device, valloader)\n",
        "    \n",
        "    \n",
        "main()"
      ],
      "execution_count": null,
      "outputs": [
        {
          "output_type": "stream",
          "name": "stdout",
          "text": [
            "Files already downloaded and verified\n",
            "Files already downloaded and verified\n",
            "Epoch [1 / 10] Loss: 1.7671544968414306\n",
            "Epoch [2 / 10] Loss: 1.5442473437118531\n",
            "Epoch [3 / 10] Loss: 1.4468492957496644\n",
            "Epoch [4 / 10] Loss: 1.3803946655082702\n",
            "Epoch [5 / 10] Loss: 1.325849211025238\n",
            "Epoch [6 / 10] Loss: 1.2890405078315734\n",
            "Epoch [7 / 10] Loss: 1.2533526002502442\n",
            "Epoch [8 / 10] Loss: 1.2267106186294556\n",
            "Epoch [9 / 10] Loss: 1.2038408518218995\n",
            "Epoch [10 / 10] Loss: 1.1824073246002198\n",
            "Finished Training\n",
            "Accuracy of the network on the 10000 test images: 81 %\n"
          ]
        }
      ]
    },
    {
      "cell_type": "markdown",
      "metadata": {
        "id": "JwRwkPaerC45"
      },
      "source": [
        "# Conclusion\n",
        "\n",
        "\n",
        "Bonus read: https://theaisummer.com/self-supervised-representation-learning-computer-vision/"
      ]
    }
  ]
}